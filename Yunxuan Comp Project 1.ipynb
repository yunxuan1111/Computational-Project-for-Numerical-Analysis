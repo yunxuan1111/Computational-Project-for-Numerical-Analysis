{
  "metadata": {
    "language_info": {
      "codemirror_mode": {
        "name": "python",
        "version": 3
      },
      "file_extension": ".py",
      "mimetype": "text/x-python",
      "name": "python",
      "nbconvert_exporter": "python",
      "pygments_lexer": "ipython3",
      "version": "3.8"
    },
    "kernelspec": {
      "name": "python",
      "display_name": "Python (Pyodide)",
      "language": "python"
    }
  },
  "nbformat_minor": 4,
  "nbformat": 4,
  "cells": [
    {
      "cell_type": "markdown",
      "source": "# Yunxuan Computational Project 1 Math 104A",
      "metadata": {}
    },
    {
      "cell_type": "markdown",
      "source": "##### Import all packages",
      "metadata": {}
    },
    {
      "cell_type": "code",
      "source": "import numpy as np\nimport matplotlib.pyplot as plt\nfrom matplotlib.colors import ListedColormap",
      "metadata": {
        "trusted": true
      },
      "execution_count": null,
      "outputs": []
    },
    {
      "cell_type": "markdown",
      "source": "##### Create Newton's Method with n = 3",
      "metadata": {}
    },
    {
      "cell_type": "code",
      "source": "f = lambda x: x**3 -1\nfp = lambda x: 3*x**2\ndef newton(X):\n    for i in range(1000):\n        X = X - (f(X))/(fp(X))\n    return X\n",
      "metadata": {
        "trusted": true
      },
      "execution_count": null,
      "outputs": []
    },
    {
      "cell_type": "markdown",
      "source": "##### We take X = 2 + 1j for examination",
      "metadata": {}
    },
    {
      "cell_type": "code",
      "source": "print(newton(2+1j))",
      "metadata": {
        "trusted": true
      },
      "execution_count": null,
      "outputs": []
    },
    {
      "cell_type": "markdown",
      "source": "##### Now we need to create a matrix for all initial guess",
      "metadata": {}
    },
    {
      "cell_type": "code",
      "source": "import decimal\ndef re_range(start,stop,step):\n    while start < stop:\n        yield float(start)\n        start += decimal.Decimal(step)\n\nre = list(re_range(-2,2.001, '0.02'))\n\ndef im_range(start,stop,step):\n    while start > stop:\n        yield float(start)\n        start -= decimal.Decimal(step)\nim = list(im_range(2,-2.001, '0.02'))   \nprint(len(re))\nprint(len(im))",
      "metadata": {
        "trusted": true
      },
      "execution_count": 4,
      "outputs": [
        {
          "name": "stdout",
          "text": "201\n201\n",
          "output_type": "stream"
        }
      ]
    },
    {
      "cell_type": "markdown",
      "source": "##### There are 201 numbers for re and im respectively, so we will create a 201*201 matrix",
      "metadata": {}
    },
    {
      "cell_type": "code",
      "source": "new_list = []\nfor i in range(0,201):\n    line = []\n    for m in range(0,201):\n        line.append(complex(re[m],im[i]))\n    new_list.append(line)\n    \nZZ = np.array(new_list, dtype = complex)",
      "metadata": {
        "trusted": true
      },
      "execution_count": 5,
      "outputs": []
    },
    {
      "cell_type": "code",
      "source": "print(ZZ)",
      "metadata": {
        "trusted": true
      },
      "execution_count": 6,
      "outputs": [
        {
          "name": "stdout",
          "text": "[[-2.  +2.j   -1.98+2.j   -1.96+2.j   ...  1.96+2.j    1.98+2.j\n   2.  +2.j  ]\n [-2.  +1.98j -1.98+1.98j -1.96+1.98j ...  1.96+1.98j  1.98+1.98j\n   2.  +1.98j]\n [-2.  +1.96j -1.98+1.96j -1.96+1.96j ...  1.96+1.96j  1.98+1.96j\n   2.  +1.96j]\n ...\n [-2.  -1.96j -1.98-1.96j -1.96-1.96j ...  1.96-1.96j  1.98-1.96j\n   2.  -1.96j]\n [-2.  -1.98j -1.98-1.98j -1.96-1.98j ...  1.96-1.98j  1.98-1.98j\n   2.  -1.98j]\n [-2.  -2.j   -1.98-2.j   -1.96-2.j   ...  1.96-2.j    1.98-2.j\n   2.  -2.j  ]]\n",
          "output_type": "stream"
        }
      ]
    },
    {
      "cell_type": "markdown",
      "source": "##### Now we put the matrix into Newtons function to get roots",
      "metadata": {}
    },
    {
      "cell_type": "code",
      "source": "solution = newton(ZZ)",
      "metadata": {
        "trusted": true
      },
      "execution_count": 7,
      "outputs": []
    },
    {
      "cell_type": "code",
      "source": "print(solution)",
      "metadata": {
        "trusted": true
      },
      "execution_count": 8,
      "outputs": [
        {
          "name": "stdout",
          "text": "[[-0.5+0.8660254j -0.5+0.8660254j -0.5+0.8660254j ...  1. +0.j\n   1. +0.j         1. +0.j       ]\n [-0.5+0.8660254j -0.5+0.8660254j -0.5+0.8660254j ...  1. +0.j\n   1. +0.j         1. +0.j       ]\n [-0.5+0.8660254j -0.5+0.8660254j -0.5+0.8660254j ...  1. +0.j\n   1. +0.j         1. +0.j       ]\n ...\n [-0.5-0.8660254j -0.5-0.8660254j -0.5-0.8660254j ...  1. +0.j\n   1. +0.j         1. +0.j       ]\n [-0.5-0.8660254j -0.5-0.8660254j -0.5-0.8660254j ...  1. +0.j\n   1. +0.j         1. +0.j       ]\n [-0.5-0.8660254j -0.5-0.8660254j -0.5-0.8660254j ...  1. +0.j\n   1. +0.j         1. +0.j       ]]\n",
          "output_type": "stream"
        }
      ]
    },
    {
      "cell_type": "code",
      "source": "np.unique(solution)",
      "metadata": {
        "trusted": true
      },
      "execution_count": 9,
      "outputs": [
        {
          "execution_count": 9,
          "output_type": "execute_result",
          "data": {
            "text/plain": "array([-0.5-0.8660254j, -0.5-0.8660254j, -0.5+0.8660254j, -0.5+0.8660254j,\n        1. +0.j       ,  nan      +nanj])"
          },
          "metadata": {}
        }
      ]
    },
    {
      "cell_type": "markdown",
      "source": "##### As we can see, there are three different solutions: -0.5-0.8660254j, -0.5+0.8660254j, 1. +0.j. Now we classify the solutions.",
      "metadata": {}
    },
    {
      "cell_type": "code",
      "source": "new_solution = [-0.5-0.8660254j, -0.5+0.8660254j, 1+0j]\nfor i in range(len(new_solution)):\n    new_solution[i] = round(new_solution[i].real,2) + round(new_solution[i].imag,2)*1j\n\nfor i in range(201):\n    for j in range(201):\n        solution[i][j] = round(solution[i][j].real,2) + round(solution[i][j].imag,2)*1j\n\nCC = np.zeros((201,201))\n\nfor i in range(201):\n    for j in range(201):\n        for k in range(len(new_solution)):\n            if solution[i][j] == new_solution[k]:\n                CC[i][j] = k\nprint(CC)",
      "metadata": {
        "trusted": true
      },
      "execution_count": 10,
      "outputs": [
        {
          "name": "stdout",
          "text": "[[1. 1. 1. ... 2. 2. 2.]\n [1. 1. 1. ... 2. 2. 2.]\n [1. 1. 1. ... 2. 2. 2.]\n ...\n [0. 0. 0. ... 2. 2. 2.]\n [0. 0. 0. ... 2. 2. 2.]\n [0. 0. 0. ... 2. 2. 2.]]\n",
          "output_type": "stream"
        }
      ]
    },
    {
      "cell_type": "markdown",
      "source": "##### Now, we can draw the picture for solutions.",
      "metadata": {}
    },
    {
      "cell_type": "code",
      "source": "xmin = -2\nxmax = 2\nymin = -2\nymax = 2\nmap = ['r', 'g', 'b', 'k']\ncmap = ListedColormap(map)\nplt.imshow(CC, cmap=cmap, extent=(xmin, xmax, ymin, ymax))\nplt.savefig(\"img.pdf\", format=\"pdf\", bbox_inches=\"tight\")\nplt.show()",
      "metadata": {
        "trusted": true
      },
      "execution_count": 49,
      "outputs": [
        {
          "output_type": "display_data",
          "data": {
            "text/plain": "<pyolite.display.Image at 0x3283fc0>",
            "image/png": "[encoded data removed]"
          },
          "metadata": {}
        }
      ]
    },
    {
      "cell_type": "code",
      "source": "",
      "metadata": {},
      "execution_count": null,
      "outputs": []
    }
  ]
}